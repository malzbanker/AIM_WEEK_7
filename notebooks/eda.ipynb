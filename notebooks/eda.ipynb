{
 "cells": [
  {
   "cell_type": "code",
   "execution_count": 1,
   "metadata": {},
   "outputs": [
    {
     "name": "stdout",
     "output_type": "stream",
     "text": [
      "Column 'column_name' not found in DataFrame. Skipping operations on this column.\n"
     ]
    },
    {
     "name": "stderr",
     "output_type": "stream",
     "text": [
      "C:\\Users\\HP\\AppData\\Local\\Temp\\ipykernel_1792\\4251001227.py:10: FutureWarning: Setting an item of incompatible dtype is deprecated and will raise an error in a future version of pandas. Value '' has dtype incompatible with float64, please explicitly cast to a compatible dtype first.\n",
      "  df.fillna('', inplace=True)\n"
     ]
    }
   ],
   "source": [
    "import pandas as pd\n",
    "\n",
    "# Use the 'engine' object directly, not db.engine\n",
    "df = pd.read_csv('../scripts/telegram_scraped_data.csv')\n",
    "\n",
    "# Remove duplicates\n",
    "df = df.drop_duplicates()\n",
    "\n",
    "# Handle missing values\n",
    "df.fillna('', inplace=True)\n",
    "\n",
    "# Check if 'column_name' exists in the DataFrame columns\n",
    "if 'column_name' in df.columns:\n",
    "    # Standardize formats only if 'column_name' exists\n",
    "    df['column_name'] = df['column_name'].astype(str)\n",
    "\n",
    "    # Validate data (only if 'column_name' exists)\n",
    "    df = df[df['column_name'].str.len() > 0]\n",
    "else:\n",
    "    print(\"Column 'column_name' not found in DataFrame. Skipping operations on this column.\")\n",
    "\n",
    "# Store cleaned data in a database\n",
    "#df.to_sql('cleaned_data', engine, if_exists='replace', index=False)"
   ]
  },
  {
   "cell_type": "code",
   "execution_count": 2,
   "metadata": {},
   "outputs": [
    {
     "data": {
      "text/plain": [
       "<bound method NDFrame.head of         channel  message_id  \\\n",
       "0     DoctorsET         864   \n",
       "1     DoctorsET         863   \n",
       "2     DoctorsET         862   \n",
       "3     DoctorsET         861   \n",
       "4     DoctorsET         860   \n",
       "...         ...         ...   \n",
       "1671      EAHCI        2143   \n",
       "1672      EAHCI        2142   \n",
       "1673      EAHCI        2141   \n",
       "1674      EAHCI        2140   \n",
       "1675      EAHCI        2139   \n",
       "\n",
       "                                                   text                 date  \\\n",
       "0     https://youtu.be/5DBoEm-8kmA?si=LDLuEecNfULJVD...  2023-12-18 17:04:02   \n",
       "1     ዶክተርስ ኢትዮጵያ በ አዲስ አቀራረብ በ ቴሌቪዥን ፕሮግራሙን ለመጀመር ከ...  2023-11-03 16:14:39   \n",
       "2     ሞት በስኳር \\n\\nለልጆቻችን የምናሲዘው ምሳቃ ሳናቀው እድሚያቸውን ይቀን...  2023-10-02 16:37:39   \n",
       "3     ከ HIV የተፈወሰ ሰው አጋጥሟችሁ ያቃል ? ፈውስ እና ህክምና ?\\n\\nሙ...  2023-09-16 07:54:32   \n",
       "4     በቅርብ ጊዜ በሃገራችን ላይ እየተስተዋለ ያለ የተመሳሳይ ፆታ ( Homos...  2023-09-01 16:16:15   \n",
       "...                                                 ...                  ...   \n",
       "1671                                                     2024-06-07 10:43:35   \n",
       "1672  #2 ቀን ቀረው💥የግርዛት_ስልጠና_Addis_Ababa\\n#Circumcisio...  2024-06-07 10:43:35   \n",
       "1673  #እሁድ ይጀምራል ✈️#Nekemte_and_Dessie_Ultrasound_Tr...  2024-06-07 07:39:32   \n",
       "1674  💥ዛሬ ይጀምራል\\n#የሞያ_ፈቃዳችሁን_ላላደሳችሁ_CPD training \\n👉...  2024-06-06 14:18:26   \n",
       "1675                                                     2024-06-05 14:14:47   \n",
       "\n",
       "        views           media_type  \n",
       "0      8825.0  MessageMediaWebPage  \n",
       "1     10616.0  MessageMediaWebPage  \n",
       "2     12775.0  MessageMediaWebPage  \n",
       "3     12817.0  MessageMediaWebPage  \n",
       "4     14437.0  MessageMediaWebPage  \n",
       "...       ...                  ...  \n",
       "1671  14894.0    MessageMediaPhoto  \n",
       "1672  13579.0    MessageMediaPhoto  \n",
       "1673   2813.0    MessageMediaPhoto  \n",
       "1674   3148.0    MessageMediaPhoto  \n",
       "1675                                \n",
       "\n",
       "[1676 rows x 6 columns]>"
      ]
     },
     "execution_count": 2,
     "metadata": {},
     "output_type": "execute_result"
    }
   ],
   "source": [
    "df.head"
   ]
  }
 ],
 "metadata": {
  "kernelspec": {
   "display_name": "kara",
   "language": "python",
   "name": "python3"
  },
  "language_info": {
   "codemirror_mode": {
    "name": "ipython",
    "version": 3
   },
   "file_extension": ".py",
   "mimetype": "text/x-python",
   "name": "python",
   "nbconvert_exporter": "python",
   "pygments_lexer": "ipython3",
   "version": "3.13.1"
  }
 },
 "nbformat": 4,
 "nbformat_minor": 2
}
