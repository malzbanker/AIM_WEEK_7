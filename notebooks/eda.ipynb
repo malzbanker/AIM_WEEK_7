{
 "cells": [
  {
   "cell_type": "code",
   "execution_count": 1,
   "metadata": {},
   "outputs": [
    {
     "name": "stdout",
     "output_type": "stream",
     "text": [
      "Column 'column_name' not found in DataFrame. Skipping operations on this column.\n"
     ]
    },
    {
     "name": "stderr",
     "output_type": "stream",
     "text": [
      "C:\\Users\\HP\\AppData\\Local\\Temp\\ipykernel_1792\\4251001227.py:10: FutureWarning: Setting an item of incompatible dtype is deprecated and will raise an error in a future version of pandas. Value '' has dtype incompatible with float64, please explicitly cast to a compatible dtype first.\n",
      "  df.fillna('', inplace=True)\n"
     ]
    }
   ],
   "source": [
    "import pandas as pd\n",
    "\n",
    "# Use the 'engine' object directly, not db.engine\n",
    "df = pd.read_csv('../scripts/telegram_scraped_data.csv')\n",
    "\n",
    "# Remove duplicates\n",
    "df = df.drop_duplicates()\n",
    "\n",
    "# Handle missing values\n",
    "df.fillna('', inplace=True)\n",
    "\n",
    "# Check if 'column_name' exists in the DataFrame columns\n",
    "if 'column_name' in df.columns:\n",
    "    # Standardize formats only if 'column_name' exists\n",
    "    df['column_name'] = df['column_name'].astype(str)\n",
    "\n",
    "    # Validate data (only if 'column_name' exists)\n",
    "    df = df[df['column_name'].str.len() > 0]\n",
    "else:\n",
    "    print(\"Column 'column_name' not found in DataFrame. Skipping operations on this column.\")\n",
    "\n",
    "# Store cleaned data in a database\n",
    "#df.to_sql('cleaned_data', engine, if_exists='replace', index=False)"
   ]
  },
  {
   "cell_type": "code",
   "execution_count": 2,
   "metadata": {},
   "outputs": [
    {
     "data": {
      "text/plain": [
       "<bound method NDFrame.head of         channel  message_id  \\\n",
       "0     DoctorsET         864   \n",
       "1     DoctorsET         863   \n",
       "2     DoctorsET         862   \n",
       "3     DoctorsET         861   \n",
       "4     DoctorsET         860   \n",
       "...         ...         ...   \n",
       "1671      EAHCI        2143   \n",
       "1672      EAHCI        2142   \n",
       "1673      EAHCI        2141   \n",
       "1674      EAHCI        2140   \n",
       "1675      EAHCI        2139   \n",
       "\n",
       "                                                   text                 date  \\\n",
       "0     https://youtu.be/5DBoEm-8kmA?si=LDLuEecNfULJVD...  2023-12-18 17:04:02   \n",
       "1     ዶክተርስ ኢትዮጵያ በ አዲስ አቀራረብ በ ቴሌቪዥን ፕሮግራሙን ለመጀመር ከ...  2023-11-03 16:14:39   \n",
       "2     ሞት በስኳር \\n\\nለልጆቻችን የምናሲዘው ምሳቃ ሳናቀው እድሚያቸውን ይቀን...  2023-10-02 16:37:39   \n",
       "3     ከ HIV የተፈወሰ ሰው አጋጥሟችሁ ያቃል ? ፈውስ እና ህክምና ?\\n\\nሙ...  2023-09-16 07:54:32   \n",
       "4     በቅርብ ጊዜ በሃገራችን ላይ እየተስተዋለ ያለ የተመሳሳይ ፆታ ( Homos...  2023-09-01 16:16:15   \n",
       "...                                                 ...                  ...   \n",
       "1671                                                     2024-06-07 10:43:35   \n",
       "1672  #2 ቀን ቀረው💥የግርዛት_ስልጠና_Addis_Ababa\\n#Circumcisio...  2024-06-07 10:43:35   \n",
       "1673  #እሁድ ይጀምራል ✈️#Nekemte_and_Dessie_Ultrasound_Tr...  2024-06-07 07:39:32   \n",
       "1674  💥ዛሬ ይጀምራል\\n#የሞያ_ፈቃዳችሁን_ላላደሳችሁ_CPD training \\n👉...  2024-06-06 14:18:26   \n",
       "1675                                                     2024-06-05 14:14:47   \n",
       "\n",
       "        views           media_type  \n",
       "0      8825.0  MessageMediaWebPage  \n",
       "1     10616.0  MessageMediaWebPage  \n",
       "2     12775.0  MessageMediaWebPage  \n",
       "3     12817.0  MessageMediaWebPage  \n",
       "4     14437.0  MessageMediaWebPage  \n",
       "...       ...                  ...  \n",
       "1671  14894.0    MessageMediaPhoto  \n",
       "1672  13579.0    MessageMediaPhoto  \n",
       "1673   2813.0    MessageMediaPhoto  \n",
       "1674   3148.0    MessageMediaPhoto  \n",
       "1675                                \n",
       "\n",
       "[1676 rows x 6 columns]>"
      ]
     },
     "execution_count": 2,
     "metadata": {},
     "output_type": "execute_result"
    }
   ],
   "source": [
    "df.head"
   ]
  },
  {
   "cell_type": "code",
   "execution_count": 1,
   "metadata": {},
   "outputs": [
    {
     "name": "stderr",
     "output_type": "stream",
     "text": [
      "C:\\Users\\HP\\AppData\\Local\\Temp\\ipykernel_13896\\3014419564.py:9: FutureWarning: A value is trying to be set on a copy of a DataFrame or Series through chained assignment using an inplace method.\n",
      "The behavior will change in pandas 3.0. This inplace method will never work because the intermediate object on which we are setting values always behaves as a copy.\n",
      "\n",
      "For example, when doing 'df[col].method(value, inplace=True)', try using 'df.method({col: value}, inplace=True)' or df[col] = df[col].method(value) instead, to perform the operation inplace on the original object.\n",
      "\n",
      "\n",
      "  df['text'].fillna('', inplace=True)  # Fill missing text\n"
     ]
    }
   ],
   "source": [
    "import pandas as pd\n",
    "\n",
    "# Load scraped data\n",
    "df = pd.read_csv('../scripts/DoctorsET_data.csv')\n",
    "df.head()\n",
    "\n",
    "# Data cleaning\n",
    "df.drop_duplicates(inplace=True)  # Remove duplicates\n",
    "df['text'].fillna('', inplace=True)  # Fill missing text\n",
    "df['date'] = pd.to_datetime(df['date'])  # Standardize date format\n",
    "\n",
    "# Save cleaned data\n",
    "df.to_csv('cleaned_DoctorsET_data.csv', index=False)"
   ]
  },
  {
   "cell_type": "code",
   "execution_count": 2,
   "metadata": {},
   "outputs": [
    {
     "data": {
      "text/html": [
       "<div>\n",
       "<style scoped>\n",
       "    .dataframe tbody tr th:only-of-type {\n",
       "        vertical-align: middle;\n",
       "    }\n",
       "\n",
       "    .dataframe tbody tr th {\n",
       "        vertical-align: top;\n",
       "    }\n",
       "\n",
       "    .dataframe thead th {\n",
       "        text-align: right;\n",
       "    }\n",
       "</style>\n",
       "<table border=\"1\" class=\"dataframe\">\n",
       "  <thead>\n",
       "    <tr style=\"text-align: right;\">\n",
       "      <th></th>\n",
       "      <th>id</th>\n",
       "      <th>text</th>\n",
       "      <th>date</th>\n",
       "      <th>views</th>\n",
       "      <th>media_type</th>\n",
       "    </tr>\n",
       "  </thead>\n",
       "  <tbody>\n",
       "    <tr>\n",
       "      <th>0</th>\n",
       "      <td>864</td>\n",
       "      <td>https://youtu.be/5DBoEm-8kmA?si=LDLuEecNfULJVD...</td>\n",
       "      <td>2023-12-18 17:04:02+00:00</td>\n",
       "      <td>8831.0</td>\n",
       "      <td>MessageMediaWebPage</td>\n",
       "    </tr>\n",
       "    <tr>\n",
       "      <th>1</th>\n",
       "      <td>863</td>\n",
       "      <td>ዶክተርስ ኢትዮጵያ በ አዲስ አቀራረብ በ ቴሌቪዥን ፕሮግራሙን ለመጀመር ከ...</td>\n",
       "      <td>2023-11-03 16:14:39+00:00</td>\n",
       "      <td>10619.0</td>\n",
       "      <td>MessageMediaWebPage</td>\n",
       "    </tr>\n",
       "    <tr>\n",
       "      <th>2</th>\n",
       "      <td>862</td>\n",
       "      <td>ሞት በስኳር \\n\\nለልጆቻችን የምናሲዘው ምሳቃ ሳናቀው እድሚያቸውን ይቀን...</td>\n",
       "      <td>2023-10-02 16:37:39+00:00</td>\n",
       "      <td>12779.0</td>\n",
       "      <td>MessageMediaWebPage</td>\n",
       "    </tr>\n",
       "    <tr>\n",
       "      <th>3</th>\n",
       "      <td>861</td>\n",
       "      <td>ከ HIV የተፈወሰ ሰው አጋጥሟችሁ ያቃል ? ፈውስ እና ህክምና ?\\n\\nሙ...</td>\n",
       "      <td>2023-09-16 07:54:32+00:00</td>\n",
       "      <td>12821.0</td>\n",
       "      <td>MessageMediaWebPage</td>\n",
       "    </tr>\n",
       "    <tr>\n",
       "      <th>4</th>\n",
       "      <td>860</td>\n",
       "      <td>በቅርብ ጊዜ በሃገራችን ላይ እየተስተዋለ ያለ የተመሳሳይ ፆታ ( Homos...</td>\n",
       "      <td>2023-09-01 16:16:15+00:00</td>\n",
       "      <td>14441.0</td>\n",
       "      <td>MessageMediaWebPage</td>\n",
       "    </tr>\n",
       "  </tbody>\n",
       "</table>\n",
       "</div>"
      ],
      "text/plain": [
       "    id                                               text  \\\n",
       "0  864  https://youtu.be/5DBoEm-8kmA?si=LDLuEecNfULJVD...   \n",
       "1  863  ዶክተርስ ኢትዮጵያ በ አዲስ አቀራረብ በ ቴሌቪዥን ፕሮግራሙን ለመጀመር ከ...   \n",
       "2  862  ሞት በስኳር \\n\\nለልጆቻችን የምናሲዘው ምሳቃ ሳናቀው እድሚያቸውን ይቀን...   \n",
       "3  861  ከ HIV የተፈወሰ ሰው አጋጥሟችሁ ያቃል ? ፈውስ እና ህክምና ?\\n\\nሙ...   \n",
       "4  860  በቅርብ ጊዜ በሃገራችን ላይ እየተስተዋለ ያለ የተመሳሳይ ፆታ ( Homos...   \n",
       "\n",
       "                        date    views           media_type  \n",
       "0  2023-12-18 17:04:02+00:00   8831.0  MessageMediaWebPage  \n",
       "1  2023-11-03 16:14:39+00:00  10619.0  MessageMediaWebPage  \n",
       "2  2023-10-02 16:37:39+00:00  12779.0  MessageMediaWebPage  \n",
       "3  2023-09-16 07:54:32+00:00  12821.0  MessageMediaWebPage  \n",
       "4  2023-09-01 16:16:15+00:00  14441.0  MessageMediaWebPage  "
      ]
     },
     "execution_count": 2,
     "metadata": {},
     "output_type": "execute_result"
    }
   ],
   "source": [
    "dataa=pd.read_csv('./cleaned_DoctorsET_data.csv')\n",
    "dataa.head()"
   ]
  },
  {
   "cell_type": "code",
   "execution_count": 4,
   "metadata": {},
   "outputs": [
    {
     "ename": "NumericValueOutOfRange",
     "evalue": "integer out of range\n",
     "output_type": "error",
     "traceback": [
      "\u001b[1;31m---------------------------------------------------------------------------\u001b[0m",
      "\u001b[1;31mNumericValueOutOfRange\u001b[0m                    Traceback (most recent call last)",
      "Cell \u001b[1;32mIn[4], line 26\u001b[0m\n\u001b[0;32m     24\u001b[0m \u001b[38;5;66;03m# Insert data into the warehouse\u001b[39;00m\n\u001b[0;32m     25\u001b[0m \u001b[38;5;28;01mfor\u001b[39;00m index, row \u001b[38;5;129;01min\u001b[39;00m df\u001b[38;5;241m.\u001b[39miterrows():\n\u001b[1;32m---> 26\u001b[0m     \u001b[43mcur\u001b[49m\u001b[38;5;241;43m.\u001b[39;49m\u001b[43mexecute\u001b[49m\u001b[43m(\u001b[49m\u001b[38;5;124;43m\"\"\"\u001b[39;49m\n\u001b[0;32m     27\u001b[0m \u001b[38;5;124;43m        INSERT INTO messages (id, text, date, views, media_type)\u001b[39;49m\n\u001b[0;32m     28\u001b[0m \u001b[38;5;124;43m        VALUES (\u001b[39;49m\u001b[38;5;132;43;01m%s\u001b[39;49;00m\u001b[38;5;124;43m, \u001b[39;49m\u001b[38;5;132;43;01m%s\u001b[39;49;00m\u001b[38;5;124;43m, \u001b[39;49m\u001b[38;5;132;43;01m%s\u001b[39;49;00m\u001b[38;5;124;43m, \u001b[39;49m\u001b[38;5;132;43;01m%s\u001b[39;49;00m\u001b[38;5;124;43m, \u001b[39;49m\u001b[38;5;132;43;01m%s\u001b[39;49;00m\u001b[38;5;124;43m)\u001b[39;49m\n\u001b[0;32m     29\u001b[0m \u001b[38;5;124;43m    \u001b[39;49m\u001b[38;5;124;43m\"\"\"\u001b[39;49m\u001b[43m,\u001b[49m\u001b[43m \u001b[49m\u001b[43m(\u001b[49m\u001b[43mrow\u001b[49m\u001b[43m[\u001b[49m\u001b[38;5;124;43m'\u001b[39;49m\u001b[38;5;124;43mid\u001b[39;49m\u001b[38;5;124;43m'\u001b[39;49m\u001b[43m]\u001b[49m\u001b[43m,\u001b[49m\u001b[43m \u001b[49m\u001b[43mrow\u001b[49m\u001b[43m[\u001b[49m\u001b[38;5;124;43m'\u001b[39;49m\u001b[38;5;124;43mtext\u001b[39;49m\u001b[38;5;124;43m'\u001b[39;49m\u001b[43m]\u001b[49m\u001b[43m,\u001b[49m\u001b[43m \u001b[49m\u001b[43mrow\u001b[49m\u001b[43m[\u001b[49m\u001b[38;5;124;43m'\u001b[39;49m\u001b[38;5;124;43mdate\u001b[39;49m\u001b[38;5;124;43m'\u001b[39;49m\u001b[43m]\u001b[49m\u001b[43m,\u001b[49m\u001b[43m \u001b[49m\u001b[43mrow\u001b[49m\u001b[43m[\u001b[49m\u001b[38;5;124;43m'\u001b[39;49m\u001b[38;5;124;43mviews\u001b[39;49m\u001b[38;5;124;43m'\u001b[39;49m\u001b[43m]\u001b[49m\u001b[43m,\u001b[49m\u001b[43m \u001b[49m\u001b[43mrow\u001b[49m\u001b[43m[\u001b[49m\u001b[38;5;124;43m'\u001b[39;49m\u001b[38;5;124;43mmedia_type\u001b[39;49m\u001b[38;5;124;43m'\u001b[39;49m\u001b[43m]\u001b[49m\u001b[43m)\u001b[49m\u001b[43m)\u001b[49m\n\u001b[0;32m     31\u001b[0m \u001b[38;5;66;03m# Commit the transaction\u001b[39;00m\n\u001b[0;32m     32\u001b[0m conn\u001b[38;5;241m.\u001b[39mcommit()\n",
      "\u001b[1;31mNumericValueOutOfRange\u001b[0m: integer out of range\n"
     ]
    }
   ],
   "source": [
    "import psycopg2\n",
    "import pandas as pd\n",
    "\n",
    "# Database connection parameters\n",
    "DB_NAME = \"medical_data\"\n",
    "DB_USER = \"postgres\"\n",
    "DB_PASSWORD = \"Malede@191919\"\n",
    "DB_HOST = \"localhost\"\n",
    "DB_PORT = \"5432\"\n",
    "\n",
    "# Connect to PostgreSQL\n",
    "conn = psycopg2.connect(\n",
    "    dbname=DB_NAME,\n",
    "    user=DB_USER,\n",
    "    password=DB_PASSWORD,\n",
    "    host=DB_HOST,\n",
    "    port=DB_PORT\n",
    ")\n",
    "cur = conn.cursor()\n",
    "\n",
    "# Load cleaned data from CSV\n",
    "df = pd.read_csv('cleaned_DoctorsET_data.csv')\n",
    "\n",
    "# Insert data into the warehouse\n",
    "for index, row in df.iterrows():\n",
    "    cur.execute(\"\"\"\n",
    "        INSERT INTO messages (id, text, date, views, media_type)\n",
    "        VALUES (%s, %s, %s, %s, %s)\n",
    "    \"\"\", (row['id'], row['text'], row['date'], row['views'], row['media_type']))\n",
    "\n",
    "# Commit the transaction\n",
    "conn.commit()\n",
    "\n",
    "# Close the connection\n",
    "cur.close()\n",
    "conn.close()"
   ]
  }
 ],
 "metadata": {
  "kernelspec": {
   "display_name": "kara",
   "language": "python",
   "name": "python3"
  },
  "language_info": {
   "codemirror_mode": {
    "name": "ipython",
    "version": 3
   },
   "file_extension": ".py",
   "mimetype": "text/x-python",
   "name": "python",
   "nbconvert_exporter": "python",
   "pygments_lexer": "ipython3",
   "version": "3.13.1"
  }
 },
 "nbformat": 4,
 "nbformat_minor": 2
}
